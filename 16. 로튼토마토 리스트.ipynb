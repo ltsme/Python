{
 "cells": [
  {
   "cell_type": "code",
   "execution_count": 1,
   "id": "0d71f85c",
   "metadata": {},
   "outputs": [],
   "source": [
    "# https://www.rottentomatoes.com/top/bestofrt/?year=2019"
   ]
  },
  {
   "cell_type": "code",
   "execution_count": 4,
   "id": "74a3aa80",
   "metadata": {},
   "outputs": [
    {
     "name": "stdout",
     "output_type": "stream",
     "text": [
      "[]\n"
     ]
    }
   ],
   "source": [
    "#top_movies_main > div > table > tbody > tr:nth-child(1) > td:nth-child(3) > a\n",
    "\n",
    "from bs4 import BeautifulSoup\n",
    "import urllib.request as req\n",
    "\n",
    "# HTML\n",
    "url = \"https://www.rottentomatoes.com/top/bestofrt/?year=2019\"\n",
    "res = req.urlopen(url)\n",
    "\n",
    "# HTML 분석\n",
    "soup = BeautifulSoup(res, \"html.parser\")\n",
    "# print(soup)\n",
    "\n",
    "# 데이터 추출하기\n",
    "movie_list = soup.select(\"#top_movies_main > div > table > tbody > tr > td\")\n",
    "# 하나가 아닌 여러개 출력을 위해, a 부터 하나하나씩 올라가면서 다시 체크 한다.\n",
    "\n",
    "print(movie_list)\n",
    "\n",
    "# for a in lylics_list:\n",
    "#     if a.string == \"증보판\":\n",
    "#         continue\n",
    "#     print(\"- \", a.string)"
   ]
  },
  {
   "cell_type": "code",
   "execution_count": null,
   "id": "02e6d8ea",
   "metadata": {},
   "outputs": [],
   "source": []
  }
 ],
 "metadata": {
  "kernelspec": {
   "display_name": "Python 3",
   "language": "python",
   "name": "python3"
  },
  "language_info": {
   "codemirror_mode": {
    "name": "ipython",
    "version": 3
   },
   "file_extension": ".py",
   "mimetype": "text/x-python",
   "name": "python",
   "nbconvert_exporter": "python",
   "pygments_lexer": "ipython3",
   "version": "3.8.8"
  }
 },
 "nbformat": 4,
 "nbformat_minor": 5
}

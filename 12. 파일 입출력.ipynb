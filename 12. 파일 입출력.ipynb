{
 "cells": [
  {
   "cell_type": "markdown",
   "id": "6cad8348",
   "metadata": {},
   "source": [
    "# 파일 읽고 쓰기\n",
    "- 파일 객체 : open(파일 이름, 파일 열기 모드)\n",
    "- 파일 열기 모드 : r(읽기 모드), w(쓰기 모드), a(추가 모드)"
   ]
  },
  {
   "cell_type": "markdown",
   "id": "0b5cc80d",
   "metadata": {},
   "source": [
    "# 파일을 쓰기모드로 열어 출력 값 저장하기"
   ]
  },
  {
   "cell_type": "code",
   "execution_count": 4,
   "id": "3a233839",
   "metadata": {},
   "outputs": [],
   "source": [
    "# 루트 지정 후 파일 쓰기 모드로 오픈(Data 폴더는 직접 생성 해준다.)\n",
    "f = open(\"./Data/new.txt\", \"w\")\n",
    "\n",
    "for i in range(1, 11):\n",
    "    data = \"%d번째 줄 입니다. \\n\" %i\n",
    "    f.write(data)\n",
    "f.close()"
   ]
  },
  {
   "cell_type": "code",
   "execution_count": 6,
   "id": "b5f433e9",
   "metadata": {},
   "outputs": [
    {
     "name": "stdout",
     "output_type": "stream",
     "text": [
      "1번째 줄 입니다. \n",
      "\n",
      "2번째 줄 입니다. \n",
      "\n",
      "3번째 줄 입니다. \n",
      "\n",
      "4번째 줄 입니다. \n",
      "\n",
      "5번째 줄 입니다. \n",
      "\n",
      "6번째 줄 입니다. \n",
      "\n",
      "7번째 줄 입니다. \n",
      "\n",
      "8번째 줄 입니다. \n",
      "\n",
      "9번째 줄 입니다. \n",
      "\n",
      "10번째 줄 입니다. \n",
      "\n"
     ]
    }
   ],
   "source": [
    "# 파일 읽기 모드로 내용 출력하기_1\n",
    "f = open(\"./Data/new.txt\", \"r\")\n",
    "\n",
    "# True = default\n",
    "while True:\n",
    "    line = f.readline()\n",
    "    if not line:\n",
    "        break\n",
    "    print(line)\n",
    "    \n",
    "f.close()"
   ]
  },
  {
   "cell_type": "code",
   "execution_count": 11,
   "id": "0c4029f7",
   "metadata": {},
   "outputs": [
    {
     "name": "stdout",
     "output_type": "stream",
     "text": [
      "<class 'list'>\n",
      "1번째 줄 입니다. \n",
      "\n",
      "2번째 줄 입니다. \n",
      "\n",
      "3번째 줄 입니다. \n",
      "\n",
      "4번째 줄 입니다. \n",
      "\n",
      "5번째 줄 입니다. \n",
      "\n",
      "6번째 줄 입니다. \n",
      "\n",
      "7번째 줄 입니다. \n",
      "\n",
      "8번째 줄 입니다. \n",
      "\n",
      "9번째 줄 입니다. \n",
      "\n",
      "10번째 줄 입니다. \n",
      "\n"
     ]
    }
   ],
   "source": [
    "# 파일 읽기 모드로 내용 출력하기_2\n",
    "f = open(\"./Data/new.txt\", \"r\")\n",
    "lines = f.readlines() # list 형식\n",
    "\n",
    "for i in lines:\n",
    "    print (i)\n",
    "f.close()"
   ]
  },
  {
   "cell_type": "code",
   "execution_count": 15,
   "id": "6ac6f088",
   "metadata": {},
   "outputs": [
    {
     "name": "stdout",
     "output_type": "stream",
     "text": [
      "1번째 줄 입니다. \n",
      "2번째 줄 입니다. \n",
      "3번째 줄 입니다. \n",
      "4번째 줄 입니다. \n",
      "5번째 줄 입니다. \n",
      "6번째 줄 입니다. \n",
      "7번째 줄 입니다. \n",
      "8번째 줄 입니다. \n",
      "9번째 줄 입니다. \n",
      "10번째 줄 입니다. \n",
      "11번째 줄 입니다.12번째 줄 입니다.13번째 줄 입니다.14번째 줄 입니다.15번째 줄 입니다.16번째 줄 입니다.17번째 줄 입니다.18번째 줄 입니다.19번째 줄 입니다.\n"
     ]
    }
   ],
   "source": [
    "# 파일 읽기 모드로 내용 출력하기_3\n",
    "f = open(\"./Data/new.txt\", \"r\")\n",
    "data = f.read()\n",
    "print(data)\n",
    "\n",
    "f.close()"
   ]
  },
  {
   "cell_type": "code",
   "execution_count": 20,
   "id": "5227fdfa",
   "metadata": {},
   "outputs": [],
   "source": [
    "# 파일에 새로운 내용 추가하기\n",
    "f = open(\"./Data/new.txt\", \"a\")\n",
    "for i in range(11, 20):\n",
    "    data = \"%d번째 줄 입니다.\\n\" %i\n",
    "    f.write(data)\n",
    "f.close()"
   ]
  },
  {
   "cell_type": "code",
   "execution_count": 21,
   "id": "ac233294",
   "metadata": {},
   "outputs": [
    {
     "name": "stdout",
     "output_type": "stream",
     "text": [
      "1번째 줄 입니다. \n",
      "2번째 줄 입니다. \n",
      "3번째 줄 입니다. \n",
      "4번째 줄 입니다. \n",
      "5번째 줄 입니다. \n",
      "6번째 줄 입니다. \n",
      "7번째 줄 입니다. \n",
      "8번째 줄 입니다. \n",
      "9번째 줄 입니다. \n",
      "10번째 줄 입니다. \n",
      "11번째 줄 입니다.\n",
      "12번째 줄 입니다.\n",
      "13번째 줄 입니다.\n",
      "14번째 줄 입니다.\n",
      "15번째 줄 입니다.\n",
      "16번째 줄 입니다.\n",
      "17번째 줄 입니다.\n",
      "18번째 줄 입니다.\n",
      "19번째 줄 입니다.\n",
      "\n"
     ]
    }
   ],
   "source": [
    "# 파일 읽기 모드로 내용 출력하기_3\n",
    "f = open(\"./Data/new.txt\", \"r\")\n",
    "data = f.read()\n",
    "print(data)\n",
    "\n",
    "f.close()"
   ]
  },
  {
   "cell_type": "markdown",
   "id": "ae28fe6d",
   "metadata": {},
   "source": [
    "# with문\n",
    ": 파일의 열고 닫음을 자동으로 처리하기 위해 사용되며 with문을 벗어나면 자동으로 close()\n",
    "\n",
    "요즘은 이렇게 쓴다. (Fashion!)"
   ]
  },
  {
   "cell_type": "code",
   "execution_count": 25,
   "id": "6570c6b5",
   "metadata": {},
   "outputs": [],
   "source": [
    "# 파일 만들기\n",
    "with open(\"./Data/new2.txt\", \"w\") as f:\n",
    "    for i in range(1, 11):\n",
    "        data = \"%d번째 줄 입니다.\\n\" %i\n",
    "        f.write(data)"
   ]
  },
  {
   "cell_type": "code",
   "execution_count": 26,
   "id": "0bc2fe30",
   "metadata": {},
   "outputs": [
    {
     "name": "stdout",
     "output_type": "stream",
     "text": [
      "1번째 줄 입니다.\n",
      "2번째 줄 입니다.\n",
      "3번째 줄 입니다.\n",
      "4번째 줄 입니다.\n",
      "5번째 줄 입니다.\n",
      "6번째 줄 입니다.\n",
      "7번째 줄 입니다.\n",
      "8번째 줄 입니다.\n",
      "9번째 줄 입니다.\n",
      "10번째 줄 입니다.\n",
      "\n"
     ]
    }
   ],
   "source": [
    "#파일 읽어오기\n",
    "with open(\"./Data/new2.txt\", \"r\") as f:\n",
    "    data = f.read()\n",
    "    print(data)"
   ]
  },
  {
   "cell_type": "markdown",
   "id": "0628b431",
   "metadata": {},
   "source": [
    "# Pandas로 불러오기"
   ]
  },
  {
   "cell_type": "code",
   "execution_count": 28,
   "id": "382e895d",
   "metadata": {},
   "outputs": [],
   "source": [
    "import pandas as pd"
   ]
  },
  {
   "cell_type": "code",
   "execution_count": 32,
   "id": "16f2c3c2",
   "metadata": {},
   "outputs": [
    {
     "data": {
      "text/html": [
       "<div>\n",
       "<style scoped>\n",
       "    .dataframe tbody tr th:only-of-type {\n",
       "        vertical-align: middle;\n",
       "    }\n",
       "\n",
       "    .dataframe tbody tr th {\n",
       "        vertical-align: top;\n",
       "    }\n",
       "\n",
       "    .dataframe thead th {\n",
       "        text-align: right;\n",
       "    }\n",
       "</style>\n",
       "<table border=\"1\" class=\"dataframe\">\n",
       "  <thead>\n",
       "    <tr style=\"text-align: right;\">\n",
       "      <th></th>\n",
       "      <th>0</th>\n",
       "    </tr>\n",
       "  </thead>\n",
       "  <tbody>\n",
       "    <tr>\n",
       "      <th>0</th>\n",
       "      <td>1번째 줄 입니다.</td>\n",
       "    </tr>\n",
       "    <tr>\n",
       "      <th>1</th>\n",
       "      <td>2번째 줄 입니다.</td>\n",
       "    </tr>\n",
       "    <tr>\n",
       "      <th>2</th>\n",
       "      <td>3번째 줄 입니다.</td>\n",
       "    </tr>\n",
       "    <tr>\n",
       "      <th>3</th>\n",
       "      <td>4번째 줄 입니다.</td>\n",
       "    </tr>\n",
       "    <tr>\n",
       "      <th>4</th>\n",
       "      <td>5번째 줄 입니다.</td>\n",
       "    </tr>\n",
       "  </tbody>\n",
       "</table>\n",
       "</div>"
      ],
      "text/plain": [
       "             0\n",
       "0  1번째 줄 입니다. \n",
       "1  2번째 줄 입니다. \n",
       "2  3번째 줄 입니다. \n",
       "3  4번째 줄 입니다. \n",
       "4  5번째 줄 입니다. "
      ]
     },
     "execution_count": 32,
     "metadata": {},
     "output_type": "execute_result"
    }
   ],
   "source": [
    "txtSample = pd.read_table(\"./Data/new.txt\", header = None)\n",
    "txtSample.head()\n",
    "\n",
    "# txtSample"
   ]
  },
  {
   "cell_type": "code",
   "execution_count": 33,
   "id": "4b87a62d",
   "metadata": {},
   "outputs": [
    {
     "data": {
      "text/html": [
       "<div>\n",
       "<style scoped>\n",
       "    .dataframe tbody tr th:only-of-type {\n",
       "        vertical-align: middle;\n",
       "    }\n",
       "\n",
       "    .dataframe tbody tr th {\n",
       "        vertical-align: top;\n",
       "    }\n",
       "\n",
       "    .dataframe thead th {\n",
       "        text-align: right;\n",
       "    }\n",
       "</style>\n",
       "<table border=\"1\" class=\"dataframe\">\n",
       "  <thead>\n",
       "    <tr style=\"text-align: right;\">\n",
       "      <th></th>\n",
       "      <th>0</th>\n",
       "    </tr>\n",
       "  </thead>\n",
       "  <tbody>\n",
       "    <tr>\n",
       "      <th>14</th>\n",
       "      <td>15번째 줄 입니다.</td>\n",
       "    </tr>\n",
       "    <tr>\n",
       "      <th>15</th>\n",
       "      <td>16번째 줄 입니다.</td>\n",
       "    </tr>\n",
       "    <tr>\n",
       "      <th>16</th>\n",
       "      <td>17번째 줄 입니다.</td>\n",
       "    </tr>\n",
       "    <tr>\n",
       "      <th>17</th>\n",
       "      <td>18번째 줄 입니다.</td>\n",
       "    </tr>\n",
       "    <tr>\n",
       "      <th>18</th>\n",
       "      <td>19번째 줄 입니다.</td>\n",
       "    </tr>\n",
       "  </tbody>\n",
       "</table>\n",
       "</div>"
      ],
      "text/plain": [
       "              0\n",
       "14  15번째 줄 입니다.\n",
       "15  16번째 줄 입니다.\n",
       "16  17번째 줄 입니다.\n",
       "17  18번째 줄 입니다.\n",
       "18  19번째 줄 입니다."
      ]
     },
     "execution_count": 33,
     "metadata": {},
     "output_type": "execute_result"
    }
   ],
   "source": [
    "txtSample.tail()"
   ]
  },
  {
   "cell_type": "markdown",
   "id": "cd29a4d8",
   "metadata": {},
   "source": [
    "# 외장 함수"
   ]
  },
  {
   "cell_type": "markdown",
   "id": "0b23863a",
   "metadata": {},
   "source": [
    "# time.sleep : 일정시간 간격으로 Loop를 실행"
   ]
  },
  {
   "cell_type": "code",
   "execution_count": 34,
   "id": "3579994b",
   "metadata": {},
   "outputs": [
    {
     "name": "stdout",
     "output_type": "stream",
     "text": [
      "0\n",
      "1\n",
      "2\n",
      "3\n",
      "4\n",
      "5\n",
      "6\n",
      "7\n",
      "8\n",
      "9\n"
     ]
    }
   ],
   "source": [
    "import time\n",
    "\n",
    "for i in range(10):\n",
    "    print(i)\n",
    "    time.sleep(1)"
   ]
  },
  {
   "cell_type": "code",
   "execution_count": 35,
   "id": "0d9c83a0",
   "metadata": {},
   "outputs": [
    {
     "name": "stdout",
     "output_type": "stream",
     "text": [
      "                                  2021\n",
      "\n",
      "      January                   February                   March\n",
      "Mo Tu We Th Fr Sa Su      Mo Tu We Th Fr Sa Su      Mo Tu We Th Fr Sa Su\n",
      "             1  2  3       1  2  3  4  5  6  7       1  2  3  4  5  6  7\n",
      " 4  5  6  7  8  9 10       8  9 10 11 12 13 14       8  9 10 11 12 13 14\n",
      "11 12 13 14 15 16 17      15 16 17 18 19 20 21      15 16 17 18 19 20 21\n",
      "18 19 20 21 22 23 24      22 23 24 25 26 27 28      22 23 24 25 26 27 28\n",
      "25 26 27 28 29 30 31                                29 30 31\n",
      "\n",
      "       April                      May                       June\n",
      "Mo Tu We Th Fr Sa Su      Mo Tu We Th Fr Sa Su      Mo Tu We Th Fr Sa Su\n",
      "          1  2  3  4                      1  2          1  2  3  4  5  6\n",
      " 5  6  7  8  9 10 11       3  4  5  6  7  8  9       7  8  9 10 11 12 13\n",
      "12 13 14 15 16 17 18      10 11 12 13 14 15 16      14 15 16 17 18 19 20\n",
      "19 20 21 22 23 24 25      17 18 19 20 21 22 23      21 22 23 24 25 26 27\n",
      "26 27 28 29 30            24 25 26 27 28 29 30      28 29 30\n",
      "                          31\n",
      "\n",
      "        July                     August                  September\n",
      "Mo Tu We Th Fr Sa Su      Mo Tu We Th Fr Sa Su      Mo Tu We Th Fr Sa Su\n",
      "          1  2  3  4                         1             1  2  3  4  5\n",
      " 5  6  7  8  9 10 11       2  3  4  5  6  7  8       6  7  8  9 10 11 12\n",
      "12 13 14 15 16 17 18       9 10 11 12 13 14 15      13 14 15 16 17 18 19\n",
      "19 20 21 22 23 24 25      16 17 18 19 20 21 22      20 21 22 23 24 25 26\n",
      "26 27 28 29 30 31         23 24 25 26 27 28 29      27 28 29 30\n",
      "                          30 31\n",
      "\n",
      "      October                   November                  December\n",
      "Mo Tu We Th Fr Sa Su      Mo Tu We Th Fr Sa Su      Mo Tu We Th Fr Sa Su\n",
      "             1  2  3       1  2  3  4  5  6  7             1  2  3  4  5\n",
      " 4  5  6  7  8  9 10       8  9 10 11 12 13 14       6  7  8  9 10 11 12\n",
      "11 12 13 14 15 16 17      15 16 17 18 19 20 21      13 14 15 16 17 18 19\n",
      "18 19 20 21 22 23 24      22 23 24 25 26 27 28      20 21 22 23 24 25 26\n",
      "25 26 27 28 29 30 31      29 30                     27 28 29 30 31\n",
      "\n"
     ]
    }
   ],
   "source": [
    "import calendar\n",
    "print(calendar.calendar(2021))"
   ]
  },
  {
   "cell_type": "code",
   "execution_count": 36,
   "id": "61366faf",
   "metadata": {},
   "outputs": [
    {
     "name": "stdout",
     "output_type": "stream",
     "text": [
      "     July 2021\n",
      "Mo Tu We Th Fr Sa Su\n",
      "          1  2  3  4\n",
      " 5  6  7  8  9 10 11\n",
      "12 13 14 15 16 17 18\n",
      "19 20 21 22 23 24 25\n",
      "26 27 28 29 30 31\n",
      "None\n"
     ]
    }
   ],
   "source": [
    "print(calendar.prmonth(2021, 7))"
   ]
  },
  {
   "cell_type": "code",
   "execution_count": 37,
   "id": "3f295b49",
   "metadata": {},
   "outputs": [
    {
     "name": "stdout",
     "output_type": "stream",
     "text": [
      "3\n"
     ]
    }
   ],
   "source": [
    "print(calendar.weekday(2021, 7,1))"
   ]
  },
  {
   "cell_type": "code",
   "execution_count": 38,
   "id": "c20836e0",
   "metadata": {},
   "outputs": [
    {
     "name": "stdout",
     "output_type": "stream",
     "text": [
      "(3, 31)\n"
     ]
    }
   ],
   "source": [
    "print(calendar.monthrange(2021, 7))"
   ]
  },
  {
   "cell_type": "code",
   "execution_count": 39,
   "id": "7afa025e",
   "metadata": {},
   "outputs": [
    {
     "data": {
      "text/plain": [
       "True"
      ]
     },
     "execution_count": 39,
     "metadata": {},
     "output_type": "execute_result"
    }
   ],
   "source": [
    "# web browser\n",
    "import webbrowser\n",
    "webbrowser.open(\"https://www.naver.com\")"
   ]
  },
  {
   "cell_type": "code",
   "execution_count": null,
   "id": "d94251ed",
   "metadata": {},
   "outputs": [],
   "source": []
  }
 ],
 "metadata": {
  "kernelspec": {
   "display_name": "Python 3",
   "language": "python",
   "name": "python3"
  },
  "language_info": {
   "codemirror_mode": {
    "name": "ipython",
    "version": 3
   },
   "file_extension": ".py",
   "mimetype": "text/x-python",
   "name": "python",
   "nbconvert_exporter": "python",
   "pygments_lexer": "ipython3",
   "version": "3.8.8"
  }
 },
 "nbformat": 4,
 "nbformat_minor": 5
}

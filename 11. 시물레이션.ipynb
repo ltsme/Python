{
 "cells": [
  {
   "cell_type": "markdown",
   "id": "c463adf2",
   "metadata": {},
   "source": [
    "# 몬테 카를로 시뮬레이션\n",
    ": 자료가 없을 경우 난수를 통해 가설 증명"
   ]
  },
  {
   "cell_type": "markdown",
   "id": "8d324862",
   "metadata": {},
   "source": [
    "## 동전의 앞면과 뒷면이 나올 확률이 같음을 증명"
   ]
  },
  {
   "cell_type": "code",
   "execution_count": 2,
   "id": "ab153547",
   "metadata": {},
   "outputs": [],
   "source": [
    "# 모듈 불러오기\n",
    "import random "
   ]
  },
  {
   "cell_type": "code",
   "execution_count": 4,
   "id": "c618c1f5",
   "metadata": {},
   "outputs": [
    {
     "data": {
      "text/plain": [
       "9"
      ]
     },
     "execution_count": 4,
     "metadata": {},
     "output_type": "execute_result"
    }
   ],
   "source": [
    "random.randint(1, 10)"
   ]
  },
  {
   "cell_type": "code",
   "execution_count": 5,
   "id": "5bd6e7b6",
   "metadata": {},
   "outputs": [],
   "source": [
    "# 난수를 통한 방법\n",
    "x = random.randint(1,2)"
   ]
  },
  {
   "cell_type": "code",
   "execution_count": null,
   "id": "f65d89f1",
   "metadata": {},
   "outputs": [],
   "source": []
  }
 ],
 "metadata": {
  "kernelspec": {
   "display_name": "Python 3",
   "language": "python",
   "name": "python3"
  },
  "language_info": {
   "codemirror_mode": {
    "name": "ipython",
    "version": 3
   },
   "file_extension": ".py",
   "mimetype": "text/x-python",
   "name": "python",
   "nbconvert_exporter": "python",
   "pygments_lexer": "ipython3",
   "version": "3.8.8"
  }
 },
 "nbformat": 4,
 "nbformat_minor": 5
}

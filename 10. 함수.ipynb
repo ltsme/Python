{
 "cells": [
  {
   "cell_type": "markdown",
   "id": "0551e055",
   "metadata": {},
   "source": [
    "# numpy 내장 함수"
   ]
  },
  {
   "cell_type": "code",
   "execution_count": 1,
   "id": "ed82881f",
   "metadata": {},
   "outputs": [],
   "source": [
    "import numpy as np"
   ]
  },
  {
   "cell_type": "code",
   "execution_count": 2,
   "id": "9117aa92",
   "metadata": {},
   "outputs": [
    {
     "data": {
      "text/plain": [
       "5.5"
      ]
     },
     "execution_count": 2,
     "metadata": {},
     "output_type": "execute_result"
    }
   ],
   "source": [
    "# 평균 구하기\n",
    "np.mean(range(1,11))"
   ]
  },
  {
   "cell_type": "code",
   "execution_count": 7,
   "id": "8570bc04",
   "metadata": {},
   "outputs": [
    {
     "data": {
      "text/plain": [
       "55"
      ]
     },
     "execution_count": 7,
     "metadata": {},
     "output_type": "execute_result"
    }
   ],
   "source": [
    "# 합계 구하기\n",
    "np.sum(range(1,11))\n"
   ]
  },
  {
   "cell_type": "code",
   "execution_count": 4,
   "id": "c1d209c7",
   "metadata": {},
   "outputs": [
    {
     "data": {
      "text/plain": [
       "2.8722813232690143"
      ]
     },
     "execution_count": 4,
     "metadata": {},
     "output_type": "execute_result"
    }
   ],
   "source": [
    "# 표준편차 구하기\n",
    "np.std(range(1, 11))"
   ]
  },
  {
   "cell_type": "code",
   "execution_count": 8,
   "id": "a4af17ff",
   "metadata": {},
   "outputs": [
    {
     "data": {
      "text/plain": [
       "10"
      ]
     },
     "execution_count": 8,
     "metadata": {},
     "output_type": "execute_result"
    }
   ],
   "source": [
    "# 표준편차 구하기\n",
    "np.max(range(1, 11))"
   ]
  },
  {
   "cell_type": "code",
   "execution_count": 13,
   "id": "c8405aed",
   "metadata": {},
   "outputs": [
    {
     "data": {
      "text/plain": [
       "1"
      ]
     },
     "execution_count": 13,
     "metadata": {},
     "output_type": "execute_result"
    }
   ],
   "source": [
    "# 최소값 구하기\n",
    "np.min(range(1,11))"
   ]
  },
  {
   "cell_type": "code",
   "execution_count": 14,
   "id": "a918a7c8",
   "metadata": {},
   "outputs": [
    {
     "data": {
      "text/plain": [
       "5.5"
      ]
     },
     "execution_count": 14,
     "metadata": {},
     "output_type": "execute_result"
    }
   ],
   "source": [
    "# 중앙값\n",
    "np.median(range(1,11))"
   ]
  },
  {
   "cell_type": "markdown",
   "id": "95045085",
   "metadata": {},
   "source": [
    "# 사용자 정의 함수"
   ]
  },
  {
   "cell_type": "code",
   "execution_count": 15,
   "id": "776e55c6",
   "metadata": {},
   "outputs": [],
   "source": [
    "# 매개변수가 없는 함수\n",
    "def hiF():\n",
    "    return \"HI\"\n"
   ]
  },
  {
   "cell_type": "code",
   "execution_count": 16,
   "id": "6ff929cb",
   "metadata": {},
   "outputs": [
    {
     "name": "stdout",
     "output_type": "stream",
     "text": [
      "HI\n"
     ]
    }
   ],
   "source": [
    "var = hiF()\n",
    "print(var)"
   ]
  },
  {
   "cell_type": "code",
   "execution_count": 17,
   "id": "7d7f2dcd",
   "metadata": {},
   "outputs": [],
   "source": [
    "# 매개 변수가 있는 함수\n",
    "def test(x, y):\n",
    "    return x + y"
   ]
  },
  {
   "cell_type": "code",
   "execution_count": 18,
   "id": "284e2383",
   "metadata": {},
   "outputs": [
    {
     "data": {
      "text/plain": [
       "7"
      ]
     },
     "execution_count": 18,
     "metadata": {},
     "output_type": "execute_result"
    }
   ],
   "source": [
    "test(3,4)"
   ]
  },
  {
   "cell_type": "code",
   "execution_count": 19,
   "id": "5c2d9179",
   "metadata": {},
   "outputs": [],
   "source": [
    "# 함수에 입력되는 인수가 몇개인지 안 정해졌을 때\n",
    "def sumManyF(*inputValue):\n",
    "    sum1 = 0\n",
    "    \n",
    "    for i in inputValue:\n",
    "        sum1 += i\n",
    "    return sum1"
   ]
  },
  {
   "cell_type": "code",
   "execution_count": 20,
   "id": "f469f52e",
   "metadata": {},
   "outputs": [
    {
     "data": {
      "text/plain": [
       "6"
      ]
     },
     "execution_count": 20,
     "metadata": {},
     "output_type": "execute_result"
    }
   ],
   "source": [
    "sumManyF(1,2,3)"
   ]
  },
  {
   "cell_type": "code",
   "execution_count": 22,
   "id": "026d6917",
   "metadata": {},
   "outputs": [
    {
     "data": {
      "text/plain": [
       "30"
      ]
     },
     "execution_count": 22,
     "metadata": {},
     "output_type": "execute_result"
    }
   ],
   "source": [
    "sumManyF(4,5,6,7,8)"
   ]
  },
  {
   "cell_type": "code",
   "execution_count": 24,
   "id": "a7b7bb91",
   "metadata": {},
   "outputs": [],
   "source": [
    "# 여러개의 숫자를 입력받아 최대와 최소의 차이를 구하는 함수 만들기\n",
    "\n",
    "def sumManyF2(*inputValue):\n",
    "    gap = 0\n",
    "    gap = np.max(inputValue) - np.min(inputValue)\n",
    "    return gap\n"
   ]
  },
  {
   "cell_type": "code",
   "execution_count": 26,
   "id": "ee5c8631",
   "metadata": {},
   "outputs": [
    {
     "data": {
      "text/plain": [
       "20"
      ]
     },
     "execution_count": 26,
     "metadata": {},
     "output_type": "execute_result"
    }
   ],
   "source": [
    "sumManyF2(3,5,10,23)"
   ]
  },
  {
   "cell_type": "code",
   "execution_count": 44,
   "id": "530af3c0",
   "metadata": {},
   "outputs": [],
   "source": [
    "# 구구단에서 단과 곱해지는 수를 리스트로 입력받아 출력하는 함수\n",
    "\n",
    "def gugu(x,y):\n",
    "    \n",
    "    for i in x:\n",
    "        for j in y:\n",
    "            print(\"%d X %d = %2d\" %(i,j,i*j))\n",
    "        print('---------------')"
   ]
  },
  {
   "cell_type": "code",
   "execution_count": 45,
   "id": "d9b36280",
   "metadata": {},
   "outputs": [
    {
     "name": "stdout",
     "output_type": "stream",
     "text": [
      "2 X 6 = 12\n",
      "2 X 7 = 14\n",
      "2 X 8 = 16\n",
      "2 X 9 = 18\n",
      "---------------\n",
      "5 X 6 = 30\n",
      "5 X 7 = 35\n",
      "5 X 8 = 40\n",
      "5 X 9 = 45\n",
      "---------------\n",
      "8 X 6 = 48\n",
      "8 X 7 = 56\n",
      "8 X 8 = 64\n",
      "8 X 9 = 72\n",
      "---------------\n"
     ]
    }
   ],
   "source": [
    "x = [2,5,8]\n",
    "y = [6,7,8,9]\n",
    "\n",
    "gugu(x,y)"
   ]
  },
  {
   "cell_type": "code",
   "execution_count": 116,
   "id": "ae695ade",
   "metadata": {},
   "outputs": [],
   "source": [
    "# 덧셈 기능과 곱셈 기능을 구분하여 숫자의 결과를 보여주는 함수\n",
    "\n",
    "def sum_mulF(str, *num):\n",
    "    \n",
    "    if(str == 'sum'):\n",
    "        resultSum = np.sum(num)\n",
    "        print(resultSum)\n",
    "        \n",
    "    elif(str == 'mul'):\n",
    "        resultMul = 1\n",
    "        for i in num:\n",
    "            resultMul *= i\n",
    "            \n",
    "        print(resultMul)\n",
    "        \n",
    "    else :\n",
    "        print('WTF?')"
   ]
  },
  {
   "cell_type": "code",
   "execution_count": 117,
   "id": "6cbb54fc",
   "metadata": {},
   "outputs": [
    {
     "name": "stdout",
     "output_type": "stream",
     "text": [
      "15\n"
     ]
    }
   ],
   "source": [
    "sum_mulF('sum', 1,2,3,4,5)"
   ]
  },
  {
   "cell_type": "code",
   "execution_count": 118,
   "id": "8802b353",
   "metadata": {},
   "outputs": [
    {
     "name": "stdout",
     "output_type": "stream",
     "text": [
      "120\n"
     ]
    }
   ],
   "source": [
    "sum_mulF('mul', 1,2,3,4,5)"
   ]
  },
  {
   "cell_type": "code",
   "execution_count": 119,
   "id": "c6e0a2be",
   "metadata": {},
   "outputs": [
    {
     "name": "stdout",
     "output_type": "stream",
     "text": [
      "WTF?\n"
     ]
    }
   ],
   "source": [
    "sum_mulF('add', 1,2,3,4,5)"
   ]
  },
  {
   "cell_type": "code",
   "execution_count": 120,
   "id": "0ba4de16",
   "metadata": {},
   "outputs": [],
   "source": [
    "def sum_mul(a, b):\n",
    "    return a+b, a*b"
   ]
  },
  {
   "cell_type": "code",
   "execution_count": 121,
   "id": "c9b0a146",
   "metadata": {},
   "outputs": [
    {
     "data": {
      "text/plain": [
       "(7, 12)"
      ]
     },
     "execution_count": 121,
     "metadata": {},
     "output_type": "execute_result"
    }
   ],
   "source": [
    "sum_mul(3,4)"
   ]
  },
  {
   "cell_type": "code",
   "execution_count": 124,
   "id": "6ba8c5b8",
   "metadata": {},
   "outputs": [
    {
     "name": "stdout",
     "output_type": "stream",
     "text": [
      "7\n",
      "12\n"
     ]
    }
   ],
   "source": [
    "return_sum, return_mul = sum_mul(3,4)\n",
    "print(return_sum)\n",
    "print(return_mul)"
   ]
  },
  {
   "cell_type": "markdown",
   "id": "c8ad6749",
   "metadata": {},
   "source": [
    "# 람다(lambda) 함수\n",
    "보통 함수를 한 줄로 간결하게 만들 때 사용\n",
    "\n",
    "return이 필요없다.\n",
    "\n",
    "함수 명이 없는 함수."
   ]
  },
  {
   "cell_type": "code",
   "execution_count": 125,
   "id": "3c0d8c0b",
   "metadata": {},
   "outputs": [],
   "source": [
    "def addFunction(a, b):\n",
    "    return a + b"
   ]
  },
  {
   "cell_type": "code",
   "execution_count": 126,
   "id": "58cc053e",
   "metadata": {},
   "outputs": [
    {
     "data": {
      "text/plain": [
       "30"
      ]
     },
     "execution_count": 126,
     "metadata": {},
     "output_type": "execute_result"
    }
   ],
   "source": [
    "addFunction(10, 20)"
   ]
  },
  {
   "cell_type": "code",
   "execution_count": 128,
   "id": "c8bed0e3",
   "metadata": {},
   "outputs": [
    {
     "data": {
      "text/plain": [
       "30"
      ]
     },
     "execution_count": 128,
     "metadata": {},
     "output_type": "execute_result"
    }
   ],
   "source": [
    "addLambda = lambda a,b: a + b\n",
    "addLambda(10, 20)"
   ]
  },
  {
   "cell_type": "code",
   "execution_count": null,
   "id": "471d1c77",
   "metadata": {},
   "outputs": [],
   "source": []
  }
 ],
 "metadata": {
  "kernelspec": {
   "display_name": "Python 3",
   "language": "python",
   "name": "python3"
  },
  "language_info": {
   "codemirror_mode": {
    "name": "ipython",
    "version": 3
   },
   "file_extension": ".py",
   "mimetype": "text/x-python",
   "name": "python",
   "nbconvert_exporter": "python",
   "pygments_lexer": "ipython3",
   "version": "3.8.8"
  }
 },
 "nbformat": 4,
 "nbformat_minor": 5
}

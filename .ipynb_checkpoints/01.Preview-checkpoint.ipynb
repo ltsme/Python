{
 "cells": [
  {
   "cell_type": "markdown",
   "id": "c61d37df",
   "metadata": {},
   "source": [
    "# Python\n",
    "## 1\n",
    "### 2\n",
    "#### 3\n",
    "- 1\n",
    "- 2\n",
    "- 3\n"
   ]
  },
  {
   "cell_type": "code",
   "execution_count": null,
   "id": "55bf1e6a",
   "metadata": {},
   "outputs": [],
   "source": []
  },
  {
   "cell_type": "code",
   "execution_count": null,
   "id": "dbaa2a9d",
   "metadata": {},
   "outputs": [],
   "source": []
  }
 ],
 "metadata": {
  "kernelspec": {
   "display_name": "Python 3",
   "language": "python",
   "name": "python3"
  },
  "language_info": {
   "codemirror_mode": {
    "name": "ipython",
    "version": 3
   },
   "file_extension": ".py",
   "mimetype": "text/x-python",
   "name": "python",
   "nbconvert_exporter": "python",
   "pygments_lexer": "ipython3",
   "version": "3.8.8"
  }
 },
 "nbformat": 4,
 "nbformat_minor": 5
}

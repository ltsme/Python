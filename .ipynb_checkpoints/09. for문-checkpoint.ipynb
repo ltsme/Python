{
 "cells": [
  {
   "cell_type": "markdown",
   "id": "cd9a197e",
   "metadata": {},
   "source": [
    "## range 함수\n",
    "range(시작 숫자, 끝 숫자, 증가 값)"
   ]
  },
  {
   "cell_type": "code",
   "execution_count": 1,
   "id": "dfed89b1",
   "metadata": {},
   "outputs": [
    {
     "name": "stdout",
     "output_type": "stream",
     "text": [
      "range(1, 11)\n"
     ]
    }
   ],
   "source": [
    "var = range(1, 11)\n",
    "print (var)"
   ]
  },
  {
   "cell_type": "code",
   "execution_count": 2,
   "id": "f2a2462f",
   "metadata": {},
   "outputs": [
    {
     "data": {
      "text/plain": [
       "[1, 2, 3, 4, 5, 6, 7, 8, 9, 10]"
      ]
     },
     "execution_count": 2,
     "metadata": {},
     "output_type": "execute_result"
    }
   ],
   "source": [
    "#range 범위를 list로 출력\n",
    "\n",
    "list(range(1, 11))"
   ]
  },
  {
   "cell_type": "code",
   "execution_count": 4,
   "id": "9c30c35c",
   "metadata": {},
   "outputs": [
    {
     "data": {
      "text/plain": [
       "[0, 2, 4, 6, 8, 10]"
      ]
     },
     "execution_count": 4,
     "metadata": {},
     "output_type": "execute_result"
    }
   ],
   "source": [
    "list(range(0, 11, 2))"
   ]
  },
  {
   "cell_type": "code",
   "execution_count": 5,
   "id": "5ad3543e",
   "metadata": {},
   "outputs": [
    {
     "data": {
      "text/plain": [
       "[10, 8, 6, 4, 2]"
      ]
     },
     "execution_count": 5,
     "metadata": {},
     "output_type": "execute_result"
    }
   ],
   "source": [
    "list (range(10, 0, -2))"
   ]
  },
  {
   "cell_type": "code",
   "execution_count": 7,
   "id": "5e5ef94f",
   "metadata": {},
   "outputs": [
    {
     "data": {
      "text/plain": [
       "[]"
      ]
     },
     "execution_count": 7,
     "metadata": {},
     "output_type": "execute_result"
    }
   ],
   "source": [
    "list (range(0, 10, -2))\n",
    "# 잘못 쓴 경우, 에러가 나오지 않고 빈 리스트만 생성이 된다."
   ]
  },
  {
   "cell_type": "code",
   "execution_count": 8,
   "id": "0ec5d139",
   "metadata": {},
   "outputs": [
    {
     "data": {
      "text/plain": [
       "10"
      ]
     },
     "execution_count": 8,
     "metadata": {},
     "output_type": "execute_result"
    }
   ],
   "source": [
    "var[9]"
   ]
  },
  {
   "cell_type": "code",
   "execution_count": 11,
   "id": "3531daf9",
   "metadata": {},
   "outputs": [
    {
     "data": {
      "text/plain": [
       "range(8, 10)"
      ]
     },
     "execution_count": 11,
     "metadata": {},
     "output_type": "execute_result"
    }
   ],
   "source": [
    "var[7:9]"
   ]
  },
  {
   "cell_type": "code",
   "execution_count": 12,
   "id": "c4778d58",
   "metadata": {},
   "outputs": [
    {
     "data": {
      "text/plain": [
       "range"
      ]
     },
     "execution_count": 12,
     "metadata": {},
     "output_type": "execute_result"
    }
   ],
   "source": [
    "type (var)"
   ]
  },
  {
   "cell_type": "markdown",
   "id": "382a29f5",
   "metadata": {},
   "source": [
    "### for 문에 range함수 사용하기"
   ]
  },
  {
   "cell_type": "code",
   "execution_count": 16,
   "id": "d0c30f22",
   "metadata": {},
   "outputs": [
    {
     "name": "stdout",
     "output_type": "stream",
     "text": [
      "1\n",
      "2\n",
      "3\n",
      "4\n",
      "5\n",
      "6\n",
      "7\n",
      "8\n",
      "9\n",
      "10\n"
     ]
    }
   ],
   "source": [
    "for i in range(1, 11):\n",
    "    print (i)"
   ]
  },
  {
   "cell_type": "code",
   "execution_count": 17,
   "id": "4fd08659",
   "metadata": {},
   "outputs": [
    {
     "name": "stdout",
     "output_type": "stream",
     "text": [
      "0\n",
      "1\n",
      "2\n",
      "3\n",
      "4\n",
      "5\n",
      "6\n",
      "7\n",
      "8\n",
      "9\n",
      "10\n"
     ]
    }
   ],
   "source": [
    "for i in range(11):\n",
    "    print (i)"
   ]
  },
  {
   "cell_type": "markdown",
   "id": "2d5a2166",
   "metadata": {},
   "source": [
    "# 1부터 10까지의 수 중에서 홀수만 출력하기"
   ]
  },
  {
   "cell_type": "code",
   "execution_count": 20,
   "id": "3f97a3ee",
   "metadata": {},
   "outputs": [
    {
     "name": "stdout",
     "output_type": "stream",
     "text": [
      "1\n",
      "3\n",
      "5\n",
      "7\n",
      "9\n"
     ]
    }
   ],
   "source": [
    "for i in range(1, 11, 2):\n",
    "    print(i)"
   ]
  },
  {
   "cell_type": "markdown",
   "id": "093cf25d",
   "metadata": {},
   "source": [
    "# 구구단 9단 출력"
   ]
  },
  {
   "cell_type": "code",
   "execution_count": 43,
   "id": "7c3f17fd",
   "metadata": {},
   "outputs": [
    {
     "name": "stdout",
     "output_type": "stream",
     "text": [
      "9 X 1 =  9\n",
      "9 X 2 = 18\n",
      "9 X 3 = 27\n",
      "9 X 4 = 36\n",
      "9 X 5 = 45\n",
      "9 X 6 = 54\n",
      "9 X 7 = 63\n",
      "9 X 8 = 72\n",
      "9 X 9 = 81\n"
     ]
    }
   ],
   "source": [
    "num = 9\n",
    "\n",
    "for i in range(1,10,1):\n",
    "    result = num*i\n",
    "    print(num, 'X', i, '=', '%2d' %result)\n",
    "\n",
    "# %2d 두 자리 정수    \n",
    "# %f 실수    "
   ]
  },
  {
   "cell_type": "code",
   "execution_count": 48,
   "id": "f9102373",
   "metadata": {},
   "outputs": [
    {
     "name": "stdout",
     "output_type": "stream",
     "text": [
      "aaa\n",
      "bbb\n",
      "aaa bbb\n"
     ]
    }
   ],
   "source": [
    "print('aaa')\n",
    "print('bbb')\n",
    "\n",
    "print('aaa', end = ' ')\n",
    "print('bbb')"
   ]
  },
  {
   "cell_type": "code",
   "execution_count": 62,
   "id": "924c4728",
   "metadata": {},
   "outputs": [
    {
     "name": "stdout",
     "output_type": "stream",
     "text": [
      "2 단 :  2  4  6  8 10 12 14 16 18 \n",
      "3 단 :  3  6  9 12 15 18 21 24 27 \n",
      "4 단 :  4  8 12 16 20 24 28 32 36 \n",
      "5 단 :  5 10 15 20 25 30 35 40 45 \n",
      "6 단 :  6 12 18 24 30 36 42 48 54 \n",
      "7 단 :  7 14 21 28 35 42 49 56 63 \n",
      "8 단 :  8 16 24 32 40 48 56 64 72 \n",
      "9 단 :  9 18 27 36 45 54 63 72 81 \n"
     ]
    }
   ],
   "source": [
    "# 구구단 결과만 출력하기 (각 단 별로)\n",
    "\n",
    "for i in range(2,10,1):\n",
    "    print(i, '단 : ', end = '')\n",
    "    \n",
    "    for j in range(1,10,1):\n",
    "        result = i*j\n",
    "        print('%2d' %result, end = ' ')\n",
    "        \n",
    "    print('')\n",
    "    "
   ]
  },
  {
   "cell_type": "code",
   "execution_count": 64,
   "id": "547efa90",
   "metadata": {},
   "outputs": [
    {
     "name": "stdout",
     "output_type": "stream",
     "text": [
      "80.75\n"
     ]
    }
   ],
   "source": [
    "# 평균 구하기\n",
    "scores = [78, 85, 95, 65]\n",
    "\n",
    "total = 0\n",
    "for score in scores:\n",
    "    total += score\n",
    "    \n",
    "print(total / len(scores))"
   ]
  },
  {
   "cell_type": "markdown",
   "id": "83498d0e",
   "metadata": {},
   "source": [
    "## for문에 Tuple사용하기"
   ]
  },
  {
   "cell_type": "code",
   "execution_count": 65,
   "id": "40f14d26",
   "metadata": {},
   "outputs": [
    {
     "name": "stdout",
     "output_type": "stream",
     "text": [
      "1 : 2\n",
      "3 : 4\n",
      "5 : 6\n"
     ]
    }
   ],
   "source": [
    "var = [(1,2), (3,4), (5,6)]\n",
    "for first, last in var:\n",
    "    print(first, ':', last)"
   ]
  },
  {
   "cell_type": "code",
   "execution_count": 66,
   "id": "1adacf6a",
   "metadata": {},
   "outputs": [
    {
     "name": "stdout",
     "output_type": "stream",
     "text": [
      "21\n"
     ]
    }
   ],
   "source": [
    "sum1 = 0\n",
    "for first, last in var:\n",
    "    sum1 += first + last\n",
    "    \n",
    "print (sum1)"
   ]
  },
  {
   "cell_type": "code",
   "execution_count": 87,
   "id": "4301c827",
   "metadata": {},
   "outputs": [
    {
     "name": "stdout",
     "output_type": "stream",
     "text": [
      "1 의 학생은 합격 입니다.\n",
      "2 의 학생은 불합격 입니다.\n",
      "3 의 학생은 합격 입니다.\n",
      "4 의 학생은 불합격 입니다.\n",
      "5 의 학생은 합격 입니다.\n"
     ]
    }
   ],
   "source": [
    "# 총 5명의 학생이 있는데, 시험 점수가 60점을 넘으면 합격, 그렇지 않으면 불합격이다.\n",
    "# 합격, 불합격 결과 보여주기\n",
    "\n",
    "scores = [90, 25, 67, 45, 80]\n",
    "\n",
    "for number in range(len(scores)):\n",
    "    if (scores[number] > 60):\n",
    "        print(number+1, '의 학생은', '합격 입니다.')\n",
    "    else:\n",
    "        print(number+1, '의 학생은', '불합격 입니다.')"
   ]
  },
  {
   "cell_type": "code",
   "execution_count": 99,
   "id": "679adbc9",
   "metadata": {},
   "outputs": [
    {
     "name": "stdout",
     "output_type": "stream",
     "text": [
      "1의 학생은 합격 입니다.\n",
      "2의 학생은 불합격 입니다.\n",
      "3의 학생은 합격 입니다.\n",
      "4의 학생은 불합격 입니다.\n",
      "5의 학생은 합격 입니다.\n"
     ]
    }
   ],
   "source": [
    "scores = [90, 25, 67, 45, 80]\n",
    "number = 1\n",
    "\n",
    "for score in scores:\n",
    "    if (score > 60):\n",
    "        print('%d의 학생은 합격 입니다.' %number)\n",
    "        number += 1\n",
    "    else:\n",
    "        print('%d의 학생은 불합격 입니다.' %number)\n",
    "        number += 1"
   ]
  },
  {
   "cell_type": "code",
   "execution_count": 103,
   "id": "a0d2aad3",
   "metadata": {},
   "outputs": [
    {
     "name": "stdout",
     "output_type": "stream",
     "text": [
      "1의 학생은 점수가 90이므로 합격 입니다.\n",
      "2의 학생은 점수가 25이므로 불합격 입니다.\n",
      "3의 학생은 점수가 67이므로 합격 입니다.\n",
      "4의 학생은 점수가 45이므로 불합격 입니다.\n",
      "5의 학생은 점수가 80이므로 합격 입니다.\n"
     ]
    }
   ],
   "source": [
    "scores = [90, 25, 67, 45, 80]\n",
    "number = 1\n",
    "\n",
    "for score in scores:\n",
    "    if (score > 60):\n",
    "        print('%d의 학생은 점수가 %2d이므로 합격 입니다.' %(number,score))\n",
    "        number += 1\n",
    "    else:\n",
    "        print('%d의 학생은 점수가 %d이므로 불합격 입니다.' %(number,score))\n",
    "        number += 1"
   ]
  },
  {
   "cell_type": "markdown",
   "id": "2049996d",
   "metadata": {},
   "source": [
    "# 학생들 점수의 평균을 구하여 평균점수 기준으로 합격, 불합격 보여주기"
   ]
  },
  {
   "cell_type": "code",
   "execution_count": 139,
   "id": "65d23235",
   "metadata": {},
   "outputs": [],
   "source": [
    "scores = [90, 25, 67, 45, 80]\n",
    "number = 1 #학생번호\n",
    "avg = 0.0 # 평균 점수\n",
    "total = 0  # 학생들의 점수 총점"
   ]
  },
  {
   "cell_type": "code",
   "execution_count": 140,
   "id": "ffc84a0f",
   "metadata": {},
   "outputs": [
    {
     "data": {
      "text/plain": [
       "61.4"
      ]
     },
     "execution_count": 140,
     "metadata": {},
     "output_type": "execute_result"
    }
   ],
   "source": [
    "import numpy as np\n",
    "np.mean(scores)"
   ]
  },
  {
   "cell_type": "code",
   "execution_count": 141,
   "id": "987eb15d",
   "metadata": {},
   "outputs": [
    {
     "data": {
      "text/plain": [
       "307"
      ]
     },
     "execution_count": 141,
     "metadata": {},
     "output_type": "execute_result"
    }
   ],
   "source": [
    "np.sum(scores)"
   ]
  },
  {
   "cell_type": "code",
   "execution_count": 142,
   "id": "d19b1017",
   "metadata": {},
   "outputs": [
    {
     "name": "stdout",
     "output_type": "stream",
     "text": [
      "학급의 평균 점수는 61.40 입니다.\n",
      "\n",
      "1의 학생은 점수가 90이므로 합격 입니다.\n",
      "2의 학생은 점수가 25이므로 불합격 입니다.\n",
      "3의 학생은 점수가 67이므로 합격 입니다.\n",
      "4의 학생은 점수가 45이므로 불합격 입니다.\n",
      "5의 학생은 점수가 80이므로 합격 입니다.\n"
     ]
    }
   ],
   "source": [
    "avg = np.mean(scores)\n",
    "total = np.sum(scores)\n",
    "\n",
    "print('학급의 평균 점수는 %.2f 입니다.' %avg)\n",
    "print('')\n",
    "\n",
    "for score in scores:\n",
    "    if (score > avg):\n",
    "        print('%d의 학생은 점수가 %2d이므로 합격 입니다.' %(number,score))\n",
    "        number += 1\n",
    "    else:\n",
    "        print('%d의 학생은 점수가 %d이므로 불합격 입니다.' %(number,score))\n",
    "        number += 1\n",
    "       "
   ]
  },
  {
   "cell_type": "code",
   "execution_count": 143,
   "id": "c4aa5c23",
   "metadata": {},
   "outputs": [
    {
     "name": "stdout",
     "output_type": "stream",
     "text": [
      "학급의 평균 점수는 61.40 입니다.\n",
      "\n",
      "1의 학생은 점수가 90이므로 합격 입니다.\n",
      "2의 학생은 점수가 25이므로 불합격 입니다.\n",
      "3의 학생은 점수가 67이므로 합격 입니다.\n",
      "4의 학생은 점수가 45이므로 불합격 입니다.\n",
      "5의 학생은 점수가 80이므로 합격 입니다.\n"
     ]
    }
   ],
   "source": [
    "print('학급의 평균 점수는 %.2f 입니다.' %avg)\n",
    "print('')        \n",
    "\n",
    "for number in range(len(scores)):\n",
    "    if (scores[number] > avg):\n",
    "        print('%d의 학생은 점수가 %2d이므로 합격 입니다.' %(number+1,scores[number]))\n",
    "        number += 1\n",
    "    else:\n",
    "        print('%d의 학생은 점수가 %d이므로 불합격 입니다.' %(number+1,scores[number]))\n",
    "        number += 1 "
   ]
  },
  {
   "cell_type": "code",
   "execution_count": 144,
   "id": "e151f5bd",
   "metadata": {},
   "outputs": [
    {
     "name": "stdout",
     "output_type": "stream",
     "text": [
      "[5, 10, 15, 20]\n"
     ]
    }
   ],
   "source": [
    "var01 = [1,2,3,4]\n",
    "var02 = []\n",
    "\n",
    "for i in var01:\n",
    "    var02.append(i * 5)\n",
    "    \n",
    "print(var02)"
   ]
  },
  {
   "cell_type": "markdown",
   "id": "71c07a42",
   "metadata": {},
   "source": [
    "# 파이썬의 listed for문"
   ]
  },
  {
   "cell_type": "code",
   "execution_count": 146,
   "id": "a3fd2e40",
   "metadata": {},
   "outputs": [
    {
     "data": {
      "text/plain": [
       "[5, 10, 15, 20]"
      ]
     },
     "execution_count": 146,
     "metadata": {},
     "output_type": "execute_result"
    }
   ],
   "source": [
    "var01 = [1,2,3,4]\n",
    "var02 = []\n",
    "\n",
    "var02 = [i * 5 for i in var01]\n",
    "var02"
   ]
  },
  {
   "cell_type": "code",
   "execution_count": 202,
   "id": "99b921f0",
   "metadata": {},
   "outputs": [
    {
     "data": {
      "text/plain": [
       "[10, 20]"
      ]
     },
     "execution_count": 202,
     "metadata": {},
     "output_type": "execute_result"
    }
   ],
   "source": [
    "# 위의 소스에서 짝수인 경우에만 5를 곱하는 리스트 만들기\n",
    "\n",
    "var01 = [1,2,3,4]\n",
    "var02 = []\n",
    "\n",
    "var02 = [i * 5 for i in var01 if i%2 == 0]\n",
    "var02"
   ]
  },
  {
   "cell_type": "markdown",
   "id": "57d99201",
   "metadata": {},
   "source": [
    "# 구구단 결과만 리스트로 만들기 (2단 ~ 9단)"
   ]
  },
  {
   "cell_type": "code",
   "execution_count": 183,
   "id": "2b9b0be4",
   "metadata": {},
   "outputs": [
    {
     "name": "stdout",
     "output_type": "stream",
     "text": [
      "[2, 3, 4, 5, 6, 7, 8, 9, 4, 6, 8, 10, 12, 14, 16, 18, 6, 9, 12, 15, 18, 21, 24, 27, 8, 12, 16, 20, 24, 28, 32, 36, 10, 15, 20, 25, 30, 35, 40, 45, 12, 18, 24, 30, 36, 42, 48, 54, 14, 21, 28, 35, 42, 49, 56, 63, 16, 24, 32, 40, 48, 56, 64, 72, 18, 27, 36, 45, 54, 63, 72, 81]\n"
     ]
    }
   ],
   "source": [
    "var02 = [i * j for j in range(1,10) for i in range(2, 10)]\n",
    "print(var02)"
   ]
  },
  {
   "cell_type": "code",
   "execution_count": 201,
   "id": "84e96e72",
   "metadata": {},
   "outputs": [
    {
     "name": "stdout",
     "output_type": "stream",
     "text": [
      "합격한 학생들의 평균 점수는 79.00입니다.\n"
     ]
    }
   ],
   "source": [
    "# 60점 이상의 학생 점수만 list로 해서 평균 구하기\n",
    "scores = [90, 25, 67, 45, 80]\n",
    "passList = []\n",
    "\n",
    "passList = [i for i in scores if i > 60]\n",
    "print(\"합격한 학생들의 평균 점수는 %.2f입니다.\" %np.mean(passList))"
   ]
  },
  {
   "cell_type": "code",
   "execution_count": null,
   "id": "16819f5d",
   "metadata": {},
   "outputs": [],
   "source": []
  }
 ],
 "metadata": {
  "kernelspec": {
   "display_name": "Python 3",
   "language": "python",
   "name": "python3"
  },
  "language_info": {
   "codemirror_mode": {
    "name": "ipython",
    "version": 3
   },
   "file_extension": ".py",
   "mimetype": "text/x-python",
   "name": "python",
   "nbconvert_exporter": "python",
   "pygments_lexer": "ipython3",
   "version": "3.8.8"
  }
 },
 "nbformat": 4,
 "nbformat_minor": 5
}

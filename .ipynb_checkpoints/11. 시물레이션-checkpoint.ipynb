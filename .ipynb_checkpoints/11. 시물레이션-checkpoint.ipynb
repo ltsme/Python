{
 "cells": [
  {
   "cell_type": "markdown",
   "id": "78f742f0",
   "metadata": {},
   "source": [
    "# 몬테 카를로 시뮬레이션\n",
    ": 자료가 없을 경우 난수를 통해 가설 증명"
   ]
  },
  {
   "cell_type": "markdown",
   "id": "304d2a4f",
   "metadata": {},
   "source": [
    "## 동전의 앞면과 뒷면이 나올 확률이 같음을 증명"
   ]
  },
  {
   "cell_type": "code",
   "execution_count": 2,
   "id": "1da82b48",
   "metadata": {},
   "outputs": [],
   "source": [
    "# 모듈 불러오기\n",
    "import random "
   ]
  },
  {
   "cell_type": "code",
   "execution_count": 4,
   "id": "172e1e48",
   "metadata": {},
   "outputs": [
    {
     "data": {
      "text/plain": [
       "9"
      ]
     },
     "execution_count": 4,
     "metadata": {},
     "output_type": "execute_result"
    }
   ],
   "source": [
    "random.randint(1, 10)"
   ]
  },
  {
   "cell_type": "code",
   "execution_count": 6,
   "id": "0fdbee8f",
   "metadata": {},
   "outputs": [
    {
     "name": "stdout",
     "output_type": "stream",
     "text": [
      "뒷면\n"
     ]
    }
   ],
   "source": [
    "# 난수를 통한 방법\n",
    "x = random.randint(1,2)\n",
    "if x == 1:\n",
    "    result = \"앞면\"\n",
    "else:\n",
    "    result = \"뒷면\"\n",
    "    \n",
    "print(result)"
   ]
  },
  {
   "cell_type": "markdown",
   "id": "8cba107e",
   "metadata": {},
   "source": [
    "# 코인토스 확률 구하기"
   ]
  },
  {
   "cell_type": "code",
   "execution_count": 26,
   "id": "a80feed3",
   "metadata": {},
   "outputs": [],
   "source": [
    "def coinF(n):\n",
    "    coinFront = coinRear = 0\n",
    "    for i in range(1, n+1):\n",
    "        x = random.randint(1,2)\n",
    "        if x == 1:\n",
    "            coinFront += 1\n",
    "        else:\n",
    "            coinRear += 1\n",
    "            \n",
    "    resultAvg = (coinFront/n)*100       \n",
    "    print (\"%d번 시도 시 동전의 앞면은 %d번 이고 동전의 뒷면은 %d번 입니다. 앞면이 나올 확률은 %2d입니다.\" %(n, coinFront, coinRear, resultAvg))"
   ]
  },
  {
   "cell_type": "code",
   "execution_count": 27,
   "id": "e1599cfc",
   "metadata": {},
   "outputs": [
    {
     "name": "stdout",
     "output_type": "stream",
     "text": [
      "10번 시도 시 동전의 앞면은 4번 이고 동전의 뒷면은 6번 입니다. 앞면이 나올 확률은 40입니다.\n",
      "1000번 시도 시 동전의 앞면은 484번 이고 동전의 뒷면은 516번 입니다. 앞면이 나올 확률은 48입니다.\n"
     ]
    }
   ],
   "source": [
    "coinF(10)\n",
    "coinF(1000)"
   ]
  },
  {
   "cell_type": "markdown",
   "id": "6472fc7d",
   "metadata": {},
   "source": [
    "# 가위바위보 확률 구하기"
   ]
  },
  {
   "cell_type": "code",
   "execution_count": 41,
   "id": "f0348210",
   "metadata": {},
   "outputs": [],
   "source": [
    "def RSP(n):\n",
    "    Rock = Sissor = Paper = 0\n",
    "    Win = Draw = Loss = 0\n",
    "    \n",
    "    for i in range(1, n+1):\n",
    "        x = random.randint(1,3)\n",
    "        y = random.randint(1,3)\n",
    "        \n",
    "        if x == 1:\n",
    "            Rock += 1\n",
    "            \n",
    "            if y == 1:\n",
    "                Draw += 1\n",
    "            elif y == 2:\n",
    "                Win += 1\n",
    "            else:\n",
    "                Loss += 1\n",
    "               \n",
    "        elif x == 2:\n",
    "            Sissor += 1\n",
    "            \n",
    "            if y == 1:\n",
    "                Loss += 1\n",
    "            elif y == 2:\n",
    "                Draw += 1\n",
    "            else:\n",
    "                Win += 1\n",
    "        else:\n",
    "            Paper += 1\n",
    "            \n",
    "            if y == 1:\n",
    "                Win += 1\n",
    "            elif y == 2:\n",
    "                Loss += 1\n",
    "            else:\n",
    "                Draw += 1\n",
    "            \n",
    "    resultRock = (Rock/n)*100   \n",
    "    resultSissor = (Sissor/n)*100 \n",
    "    resultPaper = (Paper/n)*100 \n",
    "    resultWin = (Win/n)*100\n",
    "    print (\"%d번 시도 시 주먹을 낼 확률은 %d 이고 가위의 확률은 %d 이고 바위의 확률은 %d 입니다. \" %(n, resultRock, resultSissor, resultPaper))\n",
    "    print (\"%d번 이기고 %d번 비기고 %d번 졌습니다. 승률은 %.1f입니다. \" %(Win, Draw, Loss, resultWin))"
   ]
  },
  {
   "cell_type": "code",
   "execution_count": 40,
   "id": "dabd7e77",
   "metadata": {},
   "outputs": [
    {
     "name": "stdout",
     "output_type": "stream",
     "text": [
      "1000번 시도 시 주먹을 낼 확률은 34 이고 가위의 확률은 32 이고 바위의 확률은 33 입니다. \n",
      "326번 이기고 310번 비기고 364번 졌습니다. 승률은 32.6입니다. \n"
     ]
    }
   ],
   "source": [
    "RSP(1000)"
   ]
  },
  {
   "cell_type": "code",
   "execution_count": null,
   "id": "fd0355e0",
   "metadata": {},
   "outputs": [],
   "source": []
  }
 ],
 "metadata": {
  "kernelspec": {
   "display_name": "Python 3",
   "language": "python",
   "name": "python3"
  },
  "language_info": {
   "codemirror_mode": {
    "name": "ipython",
    "version": 3
   },
   "file_extension": ".py",
   "mimetype": "text/x-python",
   "name": "python",
   "nbconvert_exporter": "python",
   "pygments_lexer": "ipython3",
   "version": "3.8.8"
  }
 },
 "nbformat": 4,
 "nbformat_minor": 5
}

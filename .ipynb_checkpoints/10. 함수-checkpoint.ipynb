{
 "cells": [
  {
   "cell_type": "markdown",
   "id": "3b4123bd",
   "metadata": {},
   "source": [
    "# numpy 내장 함수"
   ]
  },
  {
   "cell_type": "code",
   "execution_count": 1,
   "id": "c830a925",
   "metadata": {},
   "outputs": [],
   "source": [
    "import numpy as np"
   ]
  },
  {
   "cell_type": "code",
   "execution_count": 2,
   "id": "d8c572ef",
   "metadata": {},
   "outputs": [
    {
     "data": {
      "text/plain": [
       "5.5"
      ]
     },
     "execution_count": 2,
     "metadata": {},
     "output_type": "execute_result"
    }
   ],
   "source": [
    "# 평균 구하기\n",
    "np.mean(range(1,11))"
   ]
  },
  {
   "cell_type": "code",
   "execution_count": 7,
   "id": "ccd54774",
   "metadata": {},
   "outputs": [
    {
     "data": {
      "text/plain": [
       "55"
      ]
     },
     "execution_count": 7,
     "metadata": {},
     "output_type": "execute_result"
    }
   ],
   "source": [
    "# 합계 구하기\n",
    "np.sum(range(1,11))\n"
   ]
  },
  {
   "cell_type": "code",
   "execution_count": 4,
   "id": "8c61c44c",
   "metadata": {},
   "outputs": [
    {
     "data": {
      "text/plain": [
       "2.8722813232690143"
      ]
     },
     "execution_count": 4,
     "metadata": {},
     "output_type": "execute_result"
    }
   ],
   "source": [
    "# 표준편차 구하기\n",
    "np.std(range(1, 11))"
   ]
  },
  {
   "cell_type": "code",
   "execution_count": 8,
   "id": "912f1108",
   "metadata": {},
   "outputs": [
    {
     "data": {
      "text/plain": [
       "10"
      ]
     },
     "execution_count": 8,
     "metadata": {},
     "output_type": "execute_result"
    }
   ],
   "source": [
    "# 표준편차 구하기\n",
    "np.max(range(1, 11))"
   ]
  },
  {
   "cell_type": "code",
   "execution_count": 13,
   "id": "81462156",
   "metadata": {},
   "outputs": [
    {
     "data": {
      "text/plain": [
       "1"
      ]
     },
     "execution_count": 13,
     "metadata": {},
     "output_type": "execute_result"
    }
   ],
   "source": [
    "# 최소값 구하기\n",
    "np.min(range(1,11))"
   ]
  },
  {
   "cell_type": "code",
   "execution_count": 14,
   "id": "5b34e462",
   "metadata": {},
   "outputs": [
    {
     "data": {
      "text/plain": [
       "5.5"
      ]
     },
     "execution_count": 14,
     "metadata": {},
     "output_type": "execute_result"
    }
   ],
   "source": [
    "# 중앙값\n",
    "np.median(range(1,11))"
   ]
  },
  {
   "cell_type": "markdown",
   "id": "98f51b08",
   "metadata": {},
   "source": [
    "# 사용자 정의 함수"
   ]
  },
  {
   "cell_type": "code",
   "execution_count": 15,
   "id": "085280ff",
   "metadata": {},
   "outputs": [],
   "source": [
    "# 매개변수가 없는 함수\n",
    "def hiF():\n",
    "    return \"HI\"\n"
   ]
  },
  {
   "cell_type": "code",
   "execution_count": 16,
   "id": "e1d4a975",
   "metadata": {},
   "outputs": [
    {
     "name": "stdout",
     "output_type": "stream",
     "text": [
      "HI\n"
     ]
    }
   ],
   "source": [
    "var = hiF()\n",
    "print(var)"
   ]
  },
  {
   "cell_type": "code",
   "execution_count": 17,
   "id": "af7532c0",
   "metadata": {},
   "outputs": [],
   "source": [
    "# 매개 변수가 있는 함수\n",
    "def test(x, y):\n",
    "    return x + y"
   ]
  },
  {
   "cell_type": "code",
   "execution_count": 18,
   "id": "9a512d36",
   "metadata": {},
   "outputs": [
    {
     "data": {
      "text/plain": [
       "7"
      ]
     },
     "execution_count": 18,
     "metadata": {},
     "output_type": "execute_result"
    }
   ],
   "source": [
    "test(3,4)"
   ]
  },
  {
   "cell_type": "code",
   "execution_count": 19,
   "id": "b632651f",
   "metadata": {},
   "outputs": [],
   "source": [
    "# 함수에 입력되는 인수가 몇개인지 안 정해졌을 때\n",
    "def sumManyF(*inputValue):\n",
    "    sum1 = 0\n",
    "    \n",
    "    for i in inputValue:\n",
    "        sum1 += i\n",
    "    return sum1"
   ]
  },
  {
   "cell_type": "code",
   "execution_count": 20,
   "id": "a36b541a",
   "metadata": {},
   "outputs": [
    {
     "data": {
      "text/plain": [
       "6"
      ]
     },
     "execution_count": 20,
     "metadata": {},
     "output_type": "execute_result"
    }
   ],
   "source": [
    "sumManyF(1,2,3)"
   ]
  },
  {
   "cell_type": "code",
   "execution_count": 22,
   "id": "32a91ab3",
   "metadata": {},
   "outputs": [
    {
     "data": {
      "text/plain": [
       "30"
      ]
     },
     "execution_count": 22,
     "metadata": {},
     "output_type": "execute_result"
    }
   ],
   "source": [
    "sumManyF(4,5,6,7,8)"
   ]
  },
  {
   "cell_type": "code",
   "execution_count": 24,
   "id": "be6bc0f3",
   "metadata": {},
   "outputs": [],
   "source": [
    "# 여러개의 숫자를 입력받아 최대와 최소의 차이를 구하는 함수 만들기\n",
    "\n",
    "def sumManyF2(*inputValue):\n",
    "    gap = 0\n",
    "    gap = np.max(inputValue) - np.min(inputValue)\n",
    "    return gap\n"
   ]
  },
  {
   "cell_type": "code",
   "execution_count": 26,
   "id": "64d584f9",
   "metadata": {},
   "outputs": [
    {
     "data": {
      "text/plain": [
       "20"
      ]
     },
     "execution_count": 26,
     "metadata": {},
     "output_type": "execute_result"
    }
   ],
   "source": [
    "sumManyF2(3,5,10,23)"
   ]
  },
  {
   "cell_type": "code",
   "execution_count": 44,
   "id": "116c1247",
   "metadata": {},
   "outputs": [],
   "source": [
    "# 구구단에서 단과 곱해지는 수를 리스트로 입력받아 출력하는 함수\n",
    "\n",
    "def gugu(x,y):\n",
    "    \n",
    "    for i in x:\n",
    "        for j in y:\n",
    "            print(\"%d X %d = %2d\" %(i,j,i*j))\n",
    "        print('---------------')"
   ]
  },
  {
   "cell_type": "code",
   "execution_count": 45,
   "id": "9c16a75a",
   "metadata": {},
   "outputs": [
    {
     "name": "stdout",
     "output_type": "stream",
     "text": [
      "2 X 6 = 12\n",
      "2 X 7 = 14\n",
      "2 X 8 = 16\n",
      "2 X 9 = 18\n",
      "---------------\n",
      "5 X 6 = 30\n",
      "5 X 7 = 35\n",
      "5 X 8 = 40\n",
      "5 X 9 = 45\n",
      "---------------\n",
      "8 X 6 = 48\n",
      "8 X 7 = 56\n",
      "8 X 8 = 64\n",
      "8 X 9 = 72\n",
      "---------------\n"
     ]
    }
   ],
   "source": [
    "x = [2,5,8]\n",
    "y = [6,7,8,9]\n",
    "\n",
    "gugu(x,y)"
   ]
  },
  {
   "cell_type": "code",
   "execution_count": 46,
   "id": "a3213c44",
   "metadata": {},
   "outputs": [],
   "source": [
    "# 덧셈 기능과 곱셈 기능을 구분하여 숫자의 결과를 보여주는 함수\n",
    "\n",
    "def sum_mulF(str, *num):\n",
    "    \n",
    "    if(str == 'sum'):\n",
    "        print('sum')\n",
    "        \n",
    "    elif(str == 'mul'):\n",
    "        print('mul')\n",
    "        \n",
    "    else :\n",
    "        print('WTF')"
   ]
  },
  {
   "cell_type": "code",
   "execution_count": null,
   "id": "cfed049f",
   "metadata": {},
   "outputs": [],
   "source": []
  }
 ],
 "metadata": {
  "kernelspec": {
   "display_name": "Python 3",
   "language": "python",
   "name": "python3"
  },
  "language_info": {
   "codemirror_mode": {
    "name": "ipython",
    "version": 3
   },
   "file_extension": ".py",
   "mimetype": "text/x-python",
   "name": "python",
   "nbconvert_exporter": "python",
   "pygments_lexer": "ipython3",
   "version": "3.8.8"
  }
 },
 "nbformat": 4,
 "nbformat_minor": 5
}
